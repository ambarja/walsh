{
  "nbformat": 4,
  "nbformat_minor": 0,
  "metadata": {
    "colab": {
      "provenance": []
    },
    "kernelspec": {
      "name": "python3",
      "display_name": "Python 3"
    },
    "language_info": {
      "name": "python"
    }
  },
  "cells": [
    {
      "cell_type": "code",
      "execution_count": null,
      "metadata": {
        "id": "GQ4V-J867uLB"
      },
      "outputs": [],
      "source": [
        "import json\n",
        "import geopandas as gpd\n",
        "import pandas as pd\n",
        "from osgeo import gdal"
      ]
    },
    {
      "cell_type": "code",
      "source": [
        "# Reading the TSV file\n",
        "df = pd.read_csv('/content/drive/MyDrive/sdb/SouthAmerica-Full.tsv', sep='\\t',header=None)\n",
        "# adding column name as the dataframe has no column names\n",
        "df.columns =['Country', 'Feature']\n",
        "# selecting one specific country for faster processing (NPL for Nepal)\n",
        "df2 = df [df['Country'] == 'PER']"
      ],
      "metadata": {
        "id": "dC5ZlYwv7wij"
      },
      "execution_count": null,
      "outputs": []
    },
    {
      "cell_type": "code",
      "source": [
        "# creates 'output.geojson' in your pwd\n",
        "features = []\n",
        "for _, row in df2.iterrows():\n",
        "    feature = json.loads(row['Feature'])\n",
        "    features.append(feature)\n",
        "geojson = {\n",
        "    'type': 'FeatureCollection',\n",
        "    'features': features\n",
        "}\n",
        "with open('output.geojson', 'w') as f:\n",
        "    json.dump(geojson, f)"
      ],
      "metadata": {
        "id": "UrBRsgj17zOp"
      },
      "execution_count": null,
      "outputs": []
    },
    {
      "cell_type": "code",
      "source": [
        "# converts above created geojson file to 'output.gpkg'\n",
        "geojson_ds = gdal.OpenEx('/content/output.geojson', gdal.OF_VECTOR)\n",
        "driver = gdal.GetDriverByName('GPKG')\n",
        "output_ds = driver.Create('/content/output.gpkg', 0, 0, 0, gdal.GDT_Unknown)\n",
        "gdal.VectorTranslate(output_ds, geojson_ds, format='GPKG')\n",
        "output_ds = None"
      ],
      "metadata": {
        "id": "1FN5mR9s733u"
      },
      "execution_count": null,
      "outputs": []
    }
  ]
}